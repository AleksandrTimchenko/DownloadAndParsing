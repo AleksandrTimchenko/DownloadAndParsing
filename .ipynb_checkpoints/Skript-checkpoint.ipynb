{
 "cells": [
  {
   "cell_type": "code",
   "execution_count": 24,
   "metadata": {
    "collapsed": true
   },
   "outputs": [],
   "source": [
    "import webbrowser as wb\n",
    "import requests as rq\n",
    "import pandas as pd\n",
    "import os.path"
   ]
  },
  {
   "cell_type": "code",
   "execution_count": 25,
   "metadata": {},
   "outputs": [],
   "source": [
    "\n",
    "for month in range(1,4):\n",
    "    doy0=[0,31,60]\n",
    "    smonth = str(month)\n",
    "    for day in range(1,32):\n",
    "        try:\n",
    "            sday=str(day)\n",
    "            if (day < 10):\n",
    "                sday='0'+sday\n",
    "            dayname = '20080' + smonth + sday + '.txt'\n",
    "            res = rq.get('http://ftp.sgo.fi/pub_ion/dailydata/F2008/' +'F20080' + smonth + '/' + dayname)\n",
    "            res.raise_for_status()\n",
    "            doy=day+doy0[month-1]\n",
    "            sdoy=str(doy)\n",
    "            if (doy < 10):\n",
    "                sdoy='0'+sdoy\n",
    "            if(doy < 100):\n",
    "                sdoy='0'+sdoy\n",
    "            fname = 'SK2008' + sdoy + '.dat'    \n",
    "            File = open(fname, 'wb')\n",
    "            for i in res.iter_content(10000):\n",
    "                File.write(i)\n",
    "    \n",
    "            File.close()\n",
    "            #print('smonth:', smonth, ' sday:', sday, 'dayname:', dayname)\n",
    "        except:\n",
    "             break\n"
   ]
  },
  {
   "cell_type": "code",
   "execution_count": 26,
   "metadata": {},
   "outputs": [],
   "source": [
    "smonth = str(12)\n",
    "for day in range(1,32):\n",
    "    try:\n",
    "        sday=str(day)\n",
    "        if (day < 10):\n",
    "            sday='0'+sday\n",
    "        dayname = '2007' + smonth + sday + '.txt'\n",
    "        res = rq.get('http://ftp.sgo.fi/pub_ion/dailydata/F2007/' +'F2007' + smonth + '/' + dayname)\n",
    "        res.raise_for_status()\n",
    "        #print('smonth:', smonth, ' sday:', sday, 'dayname:', dayname)\n",
    "        doy=day+334\n",
    "        sdoy=str(doy)\n",
    "        fname = 'SK2007' + sdoy + '.dat'    \n",
    "        File = open(fname, 'wb')\n",
    "        for i in res.iter_content(10000):\n",
    "            File.write(i)\n",
    "    \n",
    "        File.close()\n",
    "    except:\n",
    "        break"
   ]
  },
  {
   "cell_type": "code",
   "execution_count": null,
   "metadata": {
    "collapsed": true
   },
   "outputs": [],
   "source": []
  }
 ],
 "metadata": {
  "kernelspec": {
   "display_name": "Python 3",
   "language": "python",
   "name": "python3"
  },
  "language_info": {
   "codemirror_mode": {
    "name": "ipython",
    "version": 3
   },
   "file_extension": ".py",
   "mimetype": "text/x-python",
   "name": "python",
   "nbconvert_exporter": "python",
   "pygments_lexer": "ipython3",
   "version": "3.6.2"
  }
 },
 "nbformat": 4,
 "nbformat_minor": 2
}
