{
 "cells": [
  {
   "cell_type": "code",
   "execution_count": 4,
   "metadata": {
    "collapsed": true
   },
   "outputs": [],
   "source": [
    "import pandas as pd\n",
    "import numpy as np"
   ]
  },
  {
   "cell_type": "code",
   "execution_count": 8,
   "metadata": {},
   "outputs": [
    {
     "ename": "SyntaxError",
     "evalue": "invalid syntax (<ipython-input-8-0148d242ade6>, line 25)",
     "output_type": "error",
     "traceback": [
      "\u001b[1;36m  File \u001b[1;32m\"<ipython-input-8-0148d242ade6>\"\u001b[1;36m, line \u001b[1;32m25\u001b[0m\n\u001b[1;33m    elif:\u001b[0m\n\u001b[1;37m        ^\u001b[0m\n\u001b[1;31mSyntaxError\u001b[0m\u001b[1;31m:\u001b[0m invalid syntax\n"
     ]
    }
   ],
   "source": [
    "def isfloat(value):\n",
    "    try:\n",
    "        float(value)\n",
    "        return True\n",
    "    except ValueError:\n",
    "        return False\n",
    "def delete_F_from_data(dataF):\n",
    "    if dataF.endswith('F'):\n",
    "        return (dataF[0:-1])\n",
    "    else:\n",
    "        return dataF\n",
    "\n",
    "fname = 'SK2008004.dat'\n",
    "data = pd.read_table(fname, skiprows = 15, skipfooter = 16,header = None, index_col=None, sep ='\\s+', parse_dates = True)\n",
    "N = (len(data.T)-1)*2-2\n",
    "N1 = len(data.T)-1\n",
    "k=0\n",
    "K =  data.T[0]\n",
    "fof2 =np.zeros(2*N).reshape(N,2)\n",
    "for i in range(0, N1):\n",
    "    fof2[k,0] = i\n",
    "    #delete_F_from_data(K[i])\n",
    "    if(isfloat(K[i])):\n",
    "        fof2[k,1] = K[i]\n",
    "    elif:\n",
    "        delete_F_from_data(K[i])\n",
    "        fof2[k,1] = K[i]\n",
    "    else:\n",
    "        fof2[k,1] = 'nan'\n",
    "    k=k+1\n",
    "#print('fof2:', fof2)\n",
    "\n",
    "data1 = pd.read_table(fname, skiprows = 31,header = None, index_col=None, sep ='\\s+', parse_dates = True)\n",
    "N2 = len(data1.T)-2\n",
    "n=13\n",
    "K2 =  data1.T[0]\n",
    "for j in range(1, N2):\n",
    "    fof2[n,0] = j+12\n",
    "    if(isfloat(K2[j])):\n",
    "        fof2[n,1] = K2[j]\n",
    "    else:\n",
    "        fof2[n,1] = 'nan'\n",
    "    n=n+1\n",
    "print('fof2:', fof2)"
   ]
  },
  {
   "cell_type": "code",
   "execution_count": 6,
   "metadata": {},
   "outputs": [
    {
     "data": {
      "text/plain": [
       "0     FOF2\n",
       "1        B\n",
       "2        B\n",
       "3        B\n",
       "4       10\n",
       "5        B\n",
       "6        B\n",
       "7        B\n",
       "8        B\n",
       "9        B\n",
       "10    13UR\n",
       "11       F\n",
       "12     32F\n",
       "13    FOF2\n",
       "Name: 0, dtype: object"
      ]
     },
     "execution_count": 6,
     "metadata": {},
     "output_type": "execute_result"
    }
   ],
   "source": [
    "K"
   ]
  },
  {
   "cell_type": "code",
   "execution_count": null,
   "metadata": {
    "collapsed": true
   },
   "outputs": [],
   "source": []
  }
 ],
 "metadata": {
  "kernelspec": {
   "display_name": "Python 3",
   "language": "python",
   "name": "python3"
  },
  "language_info": {
   "codemirror_mode": {
    "name": "ipython",
    "version": 3
   },
   "file_extension": ".py",
   "mimetype": "text/x-python",
   "name": "python",
   "nbconvert_exporter": "python",
   "pygments_lexer": "ipython3",
   "version": "3.6.2"
  }
 },
 "nbformat": 4,
 "nbformat_minor": 2
}
