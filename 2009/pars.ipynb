{
 "cells": [
  {
   "cell_type": "code",
   "execution_count": 21,
   "metadata": {
    "collapsed": true
   },
   "outputs": [],
   "source": [
    "import numpy as np\n",
    "import pandas as pd"
   ]
  },
  {
   "cell_type": "code",
   "execution_count": 22,
   "metadata": {
    "collapsed": true
   },
   "outputs": [],
   "source": [
    "def isfloat(value):\n",
    "    try:\n",
    "        float(value)\n",
    "        return True\n",
    "    except ValueError:\n",
    "        return False"
   ]
  },
  {
   "cell_type": "code",
   "execution_count": 23,
   "metadata": {},
   "outputs": [
    {
     "name": "stderr",
     "output_type": "stream",
     "text": [
      "C:\\ProgramData\\Anaconda3\\lib\\site-packages\\ipykernel_launcher.py:6: ParserWarning: Falling back to the 'python' engine because the 'c' engine does not support skipfooter; you can avoid this warning by specifying engine='python'.\n",
      "  \n"
     ]
    }
   ],
   "source": [
    "for doy in range(0, 31):\n",
    "    day=doy+335\n",
    "\n",
    "    fname=\"SK2008\"+str(day)+\".dat\"\n",
    "    try:\n",
    "        data = pd.read_table(fname, skiprows = 15, skipfooter = 16,header = None, index_col=None, sep ='\\s+', parse_dates = True)\n",
    "        N = (len(data.T)-1)*2-2\n",
    "        N1 = len(data.T)-1\n",
    "        k=0\n",
    "        K =  data.T[0]\n",
    "        fof2 =np.zeros(2*N).reshape(N,2)\n",
    "        for i in range(0, N1):\n",
    "            fof2[k,0] = i\n",
    "            if(isfloat(K[i])):\n",
    "                fof2[k,1] = K[i]\n",
    "            else:\n",
    "                fof2[k,1] = 'nan'\n",
    "            fof2[k,1] = (fof2[k,1])/10 \n",
    "            k=k+1\n",
    "        \n",
    "    #print('fof2:', fof2)\n",
    "\n",
    "        data1 = pd.read_table(fname, skiprows = 31,header = None, index_col=None, sep ='\\s+', parse_dates = True)\n",
    "        N2 = len(data1.T)-2\n",
    "        n=13\n",
    "        K2 =  data1.T[0]\n",
    "        for j in range(1, N2):\n",
    "            fof2[n,0] = j+12\n",
    "            if(isfloat(K2[j])):\n",
    "                fof2[n,1] = K2[j]\n",
    "            else:\n",
    "                fof2[n,1] = 'nan'\n",
    "            fof2[n,1] = (fof2[n,1])/10\n",
    "            n=n+1\n",
    "    #print('fof2:', fof2)\n",
    "    \n",
    "        DataName = \"aSK2008\"+str(day)+\".dat\"\n",
    "        np.savetxt(DataName, fof2,comments='', header = 'time    FoF2')\n",
    "    except:\n",
    "        print(doy)\n",
    "        continue"
   ]
  },
  {
   "cell_type": "code",
   "execution_count": 24,
   "metadata": {},
   "outputs": [
    {
     "name": "stderr",
     "output_type": "stream",
     "text": [
      "C:\\ProgramData\\Anaconda3\\lib\\site-packages\\ipykernel_launcher.py:10: ParserWarning: Falling back to the 'python' engine because the 'c' engine does not support skipfooter; you can avoid this warning by specifying engine='python'.\n",
      "  # Remove the CWD from sys.path while we load stuff.\n"
     ]
    }
   ],
   "source": [
    "for doy in range(1, 91):\n",
    "    sday=str(doy)\n",
    "    if (doy < 10):\n",
    "        sday='0'+sday\n",
    "    if(doy < 100):\n",
    "        sday='0'+sday\n",
    "\n",
    "    fname=\"SK2009\"+sday+\".dat\"\n",
    "    try:\n",
    "        data = pd.read_table(fname, skiprows = 15, skipfooter = 16,header = None, index_col=None, sep ='\\s+', parse_dates = True)\n",
    "        N = (len(data.T)-1)*2-2\n",
    "        N1 = len(data.T)-1\n",
    "        k=0\n",
    "        K =  data.T[0]\n",
    "        fof2 =np.zeros(2*N).reshape(N,2)\n",
    "        for i in range(0, N1):\n",
    "            fof2[k,0] = i\n",
    "            if(isfloat(K[i])):\n",
    "                fof2[k,1] = K[i]\n",
    "            else:\n",
    "                fof2[k,1] = 'nan'\n",
    "            fof2[k,1] = (fof2[k,1])/10\n",
    "            k=k+1\n",
    "    #print('fof2:', fof2)\n",
    "\n",
    "        data1 = pd.read_table(fname, skiprows = 31,header = None, index_col=None, sep ='\\s+', parse_dates = True)\n",
    "        N2 = len(data1.T)-2\n",
    "        n=13\n",
    "        K2 =  data1.T[0]\n",
    "        for j in range(1, N2):\n",
    "            fof2[n,0] = j+12\n",
    "            if(isfloat(K2[j])):\n",
    "                fof2[n,1] = K2[j]\n",
    "            else:\n",
    "                fof2[n,1] = 'nan'\n",
    "            fof2[n,1] = (fof2[n,1])/10\n",
    "            n=n+1\n",
    "    #print('fof2:', fof2)\n",
    "    \n",
    "        DataName = \"aSK2009\"+sday+\".dat\"\n",
    "        np.savetxt(DataName, fof2,comments='', header = 'time    FoF2')\n",
    "    except:\n",
    "        print(doy)\n",
    "        continue"
   ]
  },
  {
   "cell_type": "code",
   "execution_count": null,
   "metadata": {
    "collapsed": true
   },
   "outputs": [],
   "source": [
    "\n"
   ]
  },
  {
   "cell_type": "code",
   "execution_count": null,
   "metadata": {
    "collapsed": true
   },
   "outputs": [],
   "source": []
  },
  {
   "cell_type": "code",
   "execution_count": null,
   "metadata": {
    "collapsed": true
   },
   "outputs": [],
   "source": []
  },
  {
   "cell_type": "code",
   "execution_count": null,
   "metadata": {
    "collapsed": true
   },
   "outputs": [],
   "source": []
  }
 ],
 "metadata": {
  "kernelspec": {
   "display_name": "Python 3",
   "language": "python",
   "name": "python3"
  },
  "language_info": {
   "codemirror_mode": {
    "name": "ipython",
    "version": 3
   },
   "file_extension": ".py",
   "mimetype": "text/x-python",
   "name": "python",
   "nbconvert_exporter": "python",
   "pygments_lexer": "ipython3",
   "version": "3.6.2"
  }
 },
 "nbformat": 4,
 "nbformat_minor": 2
}
