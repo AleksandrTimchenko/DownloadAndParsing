{
 "cells": [
  {
   "cell_type": "code",
   "execution_count": 28,
   "metadata": {
    "collapsed": true
   },
   "outputs": [],
   "source": [
    "import pandas as pd\n",
    "import numpy as np"
   ]
  },
  {
   "cell_type": "code",
   "execution_count": 32,
   "metadata": {},
   "outputs": [
    {
     "name": "stdout",
     "output_type": "stream",
     "text": [
      "fof2: [[  0.  nan]\n",
      " [  1.  nan]\n",
      " [  2.  nan]\n",
      " [  3.  nan]\n",
      " [  4.  10.]\n",
      " [  5.  nan]\n",
      " [  6.  nan]\n",
      " [  7.  nan]\n",
      " [  8.  nan]\n",
      " [  9.  nan]\n",
      " [ 10.  nan]\n",
      " [ 11.  nan]\n",
      " [ 12.  nan]\n",
      " [ 13.  nan]\n",
      " [ 14.  nan]\n",
      " [ 15.  nan]\n",
      " [ 16.  nan]\n",
      " [ 17.  nan]\n",
      " [ 18.  nan]\n",
      " [ 19.  14.]\n",
      " [ 20.  12.]\n",
      " [ 21.  nan]\n",
      " [ 22.  nan]\n",
      " [ 23.  nan]]\n"
     ]
    },
    {
     "name": "stderr",
     "output_type": "stream",
     "text": [
      "C:\\ProgramData\\Anaconda3\\lib\\site-packages\\ipykernel_launcher.py:16: ParserWarning: Falling back to the 'python' engine because the 'c' engine does not support skipfooter; you can avoid this warning by specifying engine='python'.\n",
      "  app.launch_new_instance()\n"
     ]
    }
   ],
   "source": [
    "def isfloat(value):\n",
    "    try:\n",
    "        float(value)\n",
    "        return True\n",
    "    except ValueError:\n",
    "        return False\n",
    "    \n",
    "def delete_F_from_data(dataF):\n",
    "    \n",
    "    if dataF.endswith('F'):\n",
    "        return (dataF[0:-1])\n",
    "    else:\n",
    "        return dataF\n",
    "\n",
    "fname = 'SK2008004.dat'\n",
    "data = pd.read_table(fname,skiprows=15,skipfooter=16,header=None,index_col=None,sep='\\s+',parse_dates=True)\n",
    "N = (len(data.T)-1)*2-2\n",
    "N1 = len(data.T)-1\n",
    "k=0\n",
    "K =  data.T[0]\n",
    "fof2 =np.zeros(2*N).reshape(N,2)\n",
    "for i in range(0, N1):\n",
    "    fof2[k,0] = i\n",
    "    if(isfloat(K[i])) :\n",
    "        fof2[k,1] = K[i]\n",
    "    else:\n",
    "        fof2[k,1] = 'nan'\n",
    "    k=k+1\n",
    "#print('fof2:', fof2)\n",
    "\n",
    "data1 = pd.read_table(fname, skiprows = 31,header = None, index_col=None, sep ='\\s+', parse_dates = True)\n",
    "N2 = len(data1.T)-2\n",
    "n=13\n",
    "K2 =  data1.T[0]\n",
    "for j in range(1, N2):\n",
    "    fof2[n,0] = j+12\n",
    "    if(isfloat(K2[j])):\n",
    "        fof2[n,1] = K2[j]\n",
    "    else:\n",
    "        fof2[n,1] = 'nan'\n",
    "    n=n+1\n",
    "print('fof2:', fof2)"
   ]
  },
  {
   "cell_type": "code",
   "execution_count": 33,
   "metadata": {},
   "outputs": [
    {
     "data": {
      "text/plain": [
       "0     FOF2\n",
       "1      33F\n",
       "2      38F\n",
       "3      38F\n",
       "4      22F\n",
       "5      20F\n",
       "6      17F\n",
       "7       14\n",
       "8       12\n",
       "9        B\n",
       "10       B\n",
       "11       B\n",
       "12       B\n",
       "13    FOF2\n",
       "Name: 0, dtype: object"
      ]
     },
     "execution_count": 33,
     "metadata": {},
     "output_type": "execute_result"
    }
   ],
   "source": [
    "K2"
   ]
  },
  {
   "cell_type": "code",
   "execution_count": null,
   "metadata": {
    "collapsed": true
   },
   "outputs": [],
   "source": []
  }
 ],
 "metadata": {
  "kernelspec": {
   "display_name": "Python 3",
   "language": "python",
   "name": "python3"
  },
  "language_info": {
   "codemirror_mode": {
    "name": "ipython",
    "version": 3
   },
   "file_extension": ".py",
   "mimetype": "text/x-python",
   "name": "python",
   "nbconvert_exporter": "python",
   "pygments_lexer": "ipython3",
   "version": "3.6.2"
  }
 },
 "nbformat": 4,
 "nbformat_minor": 2
}
