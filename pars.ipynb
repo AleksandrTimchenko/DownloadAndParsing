{
 "cells": [
  {
   "cell_type": "code",
   "execution_count": 265,
   "metadata": {
    "collapsed": true
   },
   "outputs": [],
   "source": [
    "import numpy as np\n",
    "import pandas as pd"
   ]
  },
  {
   "cell_type": "code",
   "execution_count": 266,
   "metadata": {
    "collapsed": true
   },
   "outputs": [],
   "source": [
    "def isfloat(value):\n",
    "    try:\n",
    "        float(value)\n",
    "        return True\n",
    "    except ValueError:\n",
    "        return False"
   ]
  },
  {
   "cell_type": "code",
   "execution_count": 267,
   "metadata": {},
   "outputs": [
    {
     "name": "stderr",
     "output_type": "stream",
     "text": [
      "C:\\ProgramData\\Anaconda3\\lib\\site-packages\\ipykernel_launcher.py:6: ParserWarning: Falling back to the 'python' engine because the 'c' engine does not support skipfooter; you can avoid this warning by specifying engine='python'.\n",
      "  \n"
     ]
    }
   ],
   "source": [
    "for doy in range(0, 31):\n",
    "    day=doy+335\n",
    "\n",
    "    fname=\"SK2007\"+str(day)+\".dat\"\n",
    "    try:\n",
    "        data = pd.read_table(fname, skiprows = 15, skipfooter = 16,header = None, index_col=None, sep ='\\s+', parse_dates = True)\n",
    "        N = (len(data.T)-1)*2-2\n",
    "        N1 = len(data.T)-1\n",
    "        k=0\n",
    "        K =  data.T[0]\n",
    "        fof2 =np.zeros(2*N).reshape(N,2)\n",
    "        for i in range(0, N1):\n",
    "            fof2[k,0] = i\n",
    "            if(isfloat(K[i])):\n",
    "                fof2[k,1] = K[i]\n",
    "            else:\n",
    "                fof2[k,1] = 'nan'\n",
    "            fof2[k,1] = (fof2[k,1])/10 \n",
    "            k=k+1\n",
    "        \n",
    "    #print('fof2:', fof2)\n",
    "\n",
    "        data1 = pd.read_table(fname, skiprows = 31,header = None, index_col=None, sep ='\\s+', parse_dates = True)\n",
    "        N2 = len(data1.T)-2\n",
    "        n=13\n",
    "        K2 =  data1.T[0]\n",
    "        for j in range(1, N2):\n",
    "            fof2[n,0] = j+12\n",
    "            if(isfloat(K2[j])):\n",
    "                fof2[n,1] = K2[j]\n",
    "            else:\n",
    "                fof2[n,1] = 'nan'\n",
    "            fof2[n,1] = (fof2[n,1])/10\n",
    "            n=n+1\n",
    "    #print('fof2:', fof2)\n",
    "    \n",
    "        DataName = \"aSK2007\"+str(day)+\".dat\"\n",
    "        np.savetxt(DataName, fof2)\n",
    "\n",
    "        except:\n",
    "            print(doy)\n",
    "            continue"
   ]
  },
  {
   "cell_type": "code",
   "execution_count": 277,
   "metadata": {},
   "outputs": [
    {
     "name": "stderr",
     "output_type": "stream",
     "text": [
      "C:\\ProgramData\\Anaconda3\\lib\\site-packages\\ipykernel_launcher.py:10: ParserWarning: Falling back to the 'python' engine because the 'c' engine does not support skipfooter; you can avoid this warning by specifying engine='python'.\n",
      "  # Remove the CWD from sys.path while we load stuff.\n"
     ]
    },
    {
     "name": "stdout",
     "output_type": "stream",
     "text": [
      "3\n",
      "4\n",
      "6\n",
      "9\n",
      "10\n",
      "11\n",
      "14\n",
      "16\n",
      "19\n",
      "22\n",
      "24\n",
      "25\n",
      "27\n",
      "41\n",
      "43\n",
      "44\n",
      "45\n",
      "46\n",
      "47\n",
      "48\n",
      "49\n",
      "50\n",
      "51\n",
      "54\n",
      "56\n",
      "57\n",
      "62\n",
      "63\n",
      "65\n",
      "66\n",
      "68\n",
      "69\n",
      "71\n",
      "72\n",
      "73\n",
      "74\n",
      "75\n",
      "76\n",
      "77\n",
      "78\n",
      "79\n",
      "80\n",
      "81\n",
      "82\n",
      "83\n",
      "84\n",
      "89\n",
      "90\n"
     ]
    }
   ],
   "source": [
    "    for doy in range(1, 92):\n",
    "    sday=str(doy)\n",
    "    if (doy < 10):\n",
    "        sday='0'+sday\n",
    "    if(doy < 100):\n",
    "        sday='0'+sday\n",
    "\n",
    "    fname=\"SK2008\"+sday+\".dat\"\n",
    "    try:\n",
    "        data = pd.read_table(fname, skiprows = 15, skipfooter = 16,header = None, index_col=None, sep ='\\s+', parse_dates = True)\n",
    "        N = (len(data.T)-1)*2-2\n",
    "        N1 = len(data.T)-1\n",
    "        k=0\n",
    "        K =  data.T[0]\n",
    "        fof2 =np.zeros(2*N).reshape(N,2)\n",
    "        for i in range(0, N1):\n",
    "            fof2[k,0] = i\n",
    "            if(isfloat(K[i])):\n",
    "                fof2[k,1] = K[i]\n",
    "            else:\n",
    "                fof2[k,1] = 'nan'\n",
    "            fof2[k,1] = (fof2[k,1])/10\n",
    "            k=k+1\n",
    "    #print('fof2:', fof2)\n",
    "\n",
    "        data1 = pd.read_table(fname, skiprows = 31,header = None, index_col=None, sep ='\\s+', parse_dates = True)\n",
    "        N2 = len(data1.T)-2\n",
    "        n=13\n",
    "        K2 =  data1.T[0]\n",
    "        for j in range(1, N2):\n",
    "            fof2[n,0] = j+12\n",
    "            if(isfloat(K2[j])):\n",
    "                fof2[n,1] = K2[j]\n",
    "            else:\n",
    "                fof2[n,1] = 'nan'\n",
    "            fof2[n,1] = (fof2[n,1])/10\n",
    "            n=n+1\n",
    "    #print('fof2:', fof2)\n",
    "    \n",
    "        DataName = \"aSK2008\"+sday+\".dat\"\n",
    "        np.savetxt(DataName, fof2)\n",
    "    except:\n",
    "        print(doy)\n",
    "        continue"
   ]
  },
  {
   "cell_type": "code",
   "execution_count": null,
   "metadata": {
    "collapsed": true
   },
   "outputs": [],
   "source": [
    "\n"
   ]
  },
  {
   "cell_type": "code",
   "execution_count": null,
   "metadata": {
    "collapsed": true
   },
   "outputs": [],
   "source": []
  },
  {
   "cell_type": "code",
   "execution_count": null,
   "metadata": {
    "collapsed": true
   },
   "outputs": [],
   "source": []
  },
  {
   "cell_type": "code",
   "execution_count": null,
   "metadata": {
    "collapsed": true
   },
   "outputs": [],
   "source": []
  }
 ],
 "metadata": {
  "kernelspec": {
   "display_name": "Python 3",
   "language": "python",
   "name": "python3"
  },
  "language_info": {
   "codemirror_mode": {
    "name": "ipython",
    "version": 3
   },
   "file_extension": ".py",
   "mimetype": "text/x-python",
   "name": "python",
   "nbconvert_exporter": "python",
   "pygments_lexer": "ipython3",
   "version": "3.6.2"
  }
 },
 "nbformat": 4,
 "nbformat_minor": 2
}
